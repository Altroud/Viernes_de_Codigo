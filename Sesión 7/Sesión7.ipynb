{
 "cells": [
  {
   "cell_type": "markdown",
   "metadata": {},
   "source": [
    "# Sesión 7: Introducción a la Regresión Lineal"
   ]
  },
  {
   "cell_type": "markdown",
   "metadata": {},
   "source": [
    "\\begin{equation}\n",
    "    y = \\beta_0 + \\beta_1 x_1 + \\beta_2 x_2 + \\ldots + \\beta_k x_k + \\epsilon\n",
    "\\end{equation}\n",
    "\n",
    "donde:\n",
    "\n",
    "$y$ es la variable dependiente que queremos predecir o explicar.\n",
    "\n",
    "$x_1, x_2, \\ldots, x_k$ son las variables independientes o explicativas.\n",
    "\n",
    "$\\beta_0, \\beta_1, \\beta_2, \\ldots, \\beta_k$ son los coeficientes del modelo que necesitamos estimar.\n",
    "\n",
    "$\\epsilon$ es el término de error que encapsula todos los otros factores que influyen en $y$ pero no están incluidos en el modelo.\n",
    "\n",
    "\n",
    "El coeficiente $\\beta_0$ representa el valor esperado de $y$ cuando todas las variables independientes son igual a cero. Los coeficientes $\\beta_1, \\beta_2, \\ldots, \\beta_k$ representan el cambio esperado en la variable dependiente $y$ por cada unidad de cambio en las variables independientes $x_1, x_2, \\ldots, x_k$, respectivamente.\n",
    "\n",
    "El método más común para estimar los coeficientes del modelo de regresión lineal es el método de mínimos cuadrados ordinarios (MCO). Este método busca minimizar la suma de los cuadrados de los errores, es decir, la diferencia entre los valores observados y los valores predichos por el modelo."
   ]
  },
  {
   "cell_type": "markdown",
   "metadata": {},
   "source": [
    "### Paquetes que usaremos en la sesión"
   ]
  },
  {
   "cell_type": "code",
   "execution_count": null,
   "metadata": {},
   "outputs": [],
   "source": [
    "%pip install pandas\n",
    "%pip install scikit-learn\n",
    "%pip install numpy\n",
    "%pip install statsmodels"
   ]
  },
  {
   "cell_type": "code",
   "execution_count": null,
   "metadata": {},
   "outputs": [],
   "source": [
    "import pandas as pd\n",
    "import statsmodels.api as sm\n",
    "\n",
    "# Simular datos para el ejemplo\n",
    "# Supongamos que estos son los precios y las demandas correspondientes\n",
    "data = {\n",
    "    'Precio': [10, 20, 30, 40, 50],\n",
    "    'Demanda': [100, 80, 60, 40, 20]\n",
    "}\n",
    "\n",
    "# Crear un DataFrame usando pandas\n",
    "df = pd.DataFrame(data)\n",
    "\n",
    "# Definir la variable independiente y dependiente\n",
    "X = df['Precio']  # Variable independiente (Precio)\n",
    "Y = df['Demanda']  # Variable dependiente (Demanda)\n",
    "\n",
    "# Añadir una constante a la variable independiente\n",
    "X = sm.add_constant(X)\n",
    "\n",
    "# Crear el modelo de regresión lineal\n",
    "modelo = sm.OLS(Y, X).fit()\n",
    "\n",
    "# Mostrar el resumen del modelo\n",
    "print(modelo.summary())\n"
   ]
  },
  {
   "cell_type": "code",
   "execution_count": null,
   "metadata": {},
   "outputs": [],
   "source": [
    "import pandas as pd\n",
    "from sklearn.linear_model import LinearRegression\n",
    "from sklearn.metrics import mean_squared_error, r2_score\n",
    "\n",
    "# Cargando los datos\n",
    "df = pd.read_stata('graduation_rate.dta')\n",
    "\n",
    "# Seleccionando las variables predictoras y la variable objetivo\n",
    "x = df[['Parental_income']]  # Asegúrate de que X sea un DataFrame, no una Serie\n",
    "y = df['college_gpa']\n",
    "\n",
    "# Crear el modelo de regresión lineal para regresión simple\n",
    "model = LinearRegression()\n",
    "model.fit(x, y)\n",
    "\n",
    "# Realizar predicciones sobre el mismo conjunto de datos\n",
    "Y_pred = model.predict(x)\n",
    "\n",
    "# Evaluar el modelo\n",
    "mse = mean_squared_error(y, Y_pred)\n",
    "r2 = r2_score(y, Y_pred)\n",
    "\n",
    "# Mostrar los resultados de la evaluación\n",
    "print(f\"Mean Squared Error: {mse}\")\n",
    "print(f\"R^2 Score: {r2}\")"
   ]
  },
  {
   "cell_type": "code",
   "execution_count": null,
   "metadata": {},
   "outputs": [],
   "source": [
    "import statsmodels.api as sm\n",
    "# Regresión lineal simple\n",
    "X_simple = df[['Parental_income']]\n",
    "X_simple = sm.add_constant(X_simple)\n",
    "Y = df['college_gpa']\n",
    "model_simple = sm.OLS(Y, X_simple).fit()\n",
    "print(\"Resumen de la regresión lineal simple:\")\n",
    "print(model_simple.summary())"
   ]
  },
  {
   "cell_type": "markdown",
   "metadata": {},
   "source": [
    "# Consideraciones sobre los modelos de regresión lineal\n",
    "\n",
    "La regresión lineal es uno de los métodos estadísticos más utilizados en el análisis de datos. Este modelo es apreciado por su simplicidad y eficacia en describir relaciones lineales entre variables. Sin embargo, para que los resultados sean válidos, es crucial entender y verificar varias suposiciones subyacentes:\n",
    "\n",
    "## Suposiciones clave de la regresión lineal\n",
    "\n",
    "1. **Linearidad**: La relación entre las variables dependientes e independientes debe ser lineal.\n",
    "2. **Homocedasticidad**: La varianza de los errores residuales debe ser constante en todos los niveles de las variables predictoras.\n",
    "3. **Independencia de los errores**: Los errores en la predicción deben ser independientes entre sí.\n",
    "4. **Normalidad de los errores**: Los errores deben distribuirse normalmente.\n",
    "\n",
    "## Problemas comunes y soluciones\n",
    "\n",
    "- **Multicolinealidad**: La correlación entre variables independientes puede distorsionar los estimados. Herramientas como el Factor de Inflación de la Varianza (VIF) pueden diagnosticar estas condiciones.\n",
    "- **Outliers**: Puntos de datos atípicos pueden influir excesivamente en el modelo, requiriendo técnicas de detección y posiblemente su exclusión del análisis.\n",
    "- **Errores no normales y heterocedásticos**: Transformaciones de datos o modelos robustos pueden ser necesarios para abordar estas cuestiones."
   ]
  }
 ],
 "metadata": {
  "kernelspec": {
   "display_name": "Python 3",
   "language": "python",
   "name": "python3"
  },
  "language_info": {
   "codemirror_mode": {
    "name": "ipython",
    "version": 3
   },
   "file_extension": ".py",
   "mimetype": "text/x-python",
   "name": "python",
   "nbconvert_exporter": "python",
   "pygments_lexer": "ipython3",
   "version": "3.12.2"
  },
  "orig_nbformat": 4
 },
 "nbformat": 4,
 "nbformat_minor": 2
}
