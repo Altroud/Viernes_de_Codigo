{
 "cells": [
  {
   "cell_type": "markdown",
   "metadata": {},
   "source": [
    "# Regresión Lineal"
   ]
  },
  {
   "cell_type": "markdown",
   "metadata": {},
   "source": [
    "\\begin{equation}\n",
    "    y = \\beta_0 + \\beta_1 x_1 + \\beta_2 x_2 + \\ldots + \\beta_k x_k + \\epsilon\n",
    "\\end{equation}\n",
    "\n",
    "donde:\n",
    "\n",
    "$y$ es la variable dependiente que queremos predecir o explicar.\n",
    "\n",
    "$x_1, x_2, \\ldots, x_k$ son las variables independientes o explicativas.\n",
    "\n",
    "$\\beta_0, \\beta_1, \\beta_2, \\ldots, \\beta_k$ son los coeficientes del modelo que necesitamos estimar.\n",
    "\n",
    "$\\epsilon$ es el término de error que encapsula todos los otros factores que influyen en $y$ pero no están incluidos en el modelo.\n",
    "\n",
    "\n",
    "El coeficiente $\\beta_0$ representa el valor esperado de $y$ cuando todas las variables independientes son igual a cero. Los coeficientes $\\beta_1, \\beta_2, \\ldots, \\beta_k$ representan el cambio esperado en la variable dependiente $y$ por cada unidad de cambio en las variables independientes $x_1, x_2, \\ldots, x_k$, respectivamente.\n",
    "\n",
    "El método más común para estimar los coeficientes del modelo de regresión lineal es el método de mínimos cuadrados ordinarios (MCO). Este método busca minimizar la suma de los cuadrados de los errores, es decir, la diferencia entre los valores observados y los valores predichos por el modelo."
   ]
  },
  {
   "cell_type": "code",
   "execution_count": null,
   "metadata": {},
   "outputs": [],
   "source": [
    "%pip install scikit-learn"
   ]
  },
  {
   "cell_type": "code",
   "execution_count": null,
   "metadata": {},
   "outputs": [],
   "source": [
    "import pandas as pd\n",
    "from sklearn.linear_model import LinearRegression\n",
    "from sklearn.metrics import mean_squared_error, r2_score\n",
    "df = pd.read_stata('graduation_rate.dta')\n",
    "df.columns\n",
    "\n",
    "# Seleccionando las variables predictoras y la variable objetivo\n",
    "x = df[['Parental_income']]  # Asegúrate de que X sea un DataFrame, no una Serie\n",
    "y = df['college_gpa']\n",
    "\n",
    "# Crear el modelo de regresión lineal para regresión simple\n",
    "model = LinearRegression()\n",
    "model.fit(x, y)\n",
    "\n",
    "# Realizar predicciones sobre el mismo conjunto de datos\n",
    "Y_pred= model_simple.predict(x)\n",
    "\n",
    "# Evaluar el modelo simple\n",
    "mse = mean_squared_error(y, Y_pred_simple)\n",
    "r2 = r2_score(y, Y_pred_simple)\n"
   ]
  },
  {
   "cell_type": "code",
   "execution_count": null,
   "metadata": {},
   "outputs": [],
   "source": [
    "%pip install statsmodels"
   ]
  },
  {
   "cell_type": "code",
   "execution_count": 32,
   "metadata": {},
   "outputs": [
    {
     "name": "stdout",
     "output_type": "stream",
     "text": [
      "Resumen de la regresión lineal simple:\n",
      "                            OLS Regression Results                            \n",
      "==============================================================================\n",
      "Dep. Variable:            college_gpa   R-squared:                       0.215\n",
      "Model:                            OLS   Adj. R-squared:                  0.215\n",
      "Method:                 Least Squares   F-statistic:                     547.1\n",
      "Date:                Fri, 19 Apr 2024   Prob (F-statistic):          3.78e-107\n",
      "Time:                        10:45:01   Log-Likelihood:                 283.03\n",
      "No. Observations:                2000   AIC:                            -562.1\n",
      "Df Residuals:                    1998   BIC:                            -550.9\n",
      "Df Model:                           1                                         \n",
      "Covariance Type:            nonrobust                                         \n",
      "===================================================================================\n",
      "                      coef    std err          t      P>|t|      [0.025      0.975]\n",
      "-----------------------------------------------------------------------------------\n",
      "const               2.9830      0.017    170.760      0.000       2.949       3.017\n",
      "Parental_income  5.841e-06    2.5e-07     23.391      0.000    5.35e-06    6.33e-06\n",
      "==============================================================================\n",
      "Omnibus:                        7.896   Durbin-Watson:                   2.106\n",
      "Prob(Omnibus):                  0.019   Jarque-Bera (JB):                7.715\n",
      "Skew:                          -0.128   Prob(JB):                       0.0211\n",
      "Kurtosis:                       2.836   Cond. No.                     2.60e+05\n",
      "==============================================================================\n",
      "\n",
      "Notes:\n",
      "[1] Standard Errors assume that the covariance matrix of the errors is correctly specified.\n",
      "[2] The condition number is large, 2.6e+05. This might indicate that there are\n",
      "strong multicollinearity or other numerical problems.\n"
     ]
    }
   ],
   "source": [
    "import statsmodels.api as sm\n",
    "# Regresión lineal simple\n",
    "X_simple = df[['Parental_income']]  # Asegúrate de añadir una constante para el intercepto\n",
    "X_simple = sm.add_constant(X_simple)\n",
    "Y = df['college_gpa']\n",
    "model_simple = sm.OLS(Y, X_simple).fit()\n",
    "print(\"Resumen de la regresión lineal simple:\")\n",
    "print(model_simple.summary())"
   ]
  }
 ],
 "metadata": {
  "kernelspec": {
   "display_name": "Python 3",
   "language": "python",
   "name": "python3"
  },
  "language_info": {
   "codemirror_mode": {
    "name": "ipython",
    "version": 3
   },
   "file_extension": ".py",
   "mimetype": "text/x-python",
   "name": "python",
   "nbconvert_exporter": "python",
   "pygments_lexer": "ipython3",
   "version": "3.12.2"
  },
  "orig_nbformat": 4
 },
 "nbformat": 4,
 "nbformat_minor": 2
}
