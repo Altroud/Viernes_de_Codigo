{
 "cells": [
  {
   "cell_type": "code",
   "execution_count": null,
   "metadata": {},
   "outputs": [],
   "source": [
    "#Análisis exploratorio\n",
    "import pandas as pd\n",
    "df = pd.read_excel('ipc-julago2023.xlsx', sheet_name=\"1\", skiprows=8)"
   ]
  },
  {
   "cell_type": "code",
   "execution_count": null,
   "metadata": {},
   "outputs": [],
   "source": [
    "df"
   ]
  },
  {
   "cell_type": "code",
   "execution_count": null,
   "metadata": {},
   "outputs": [],
   "source": [
    "df.head()"
   ]
  },
  {
   "cell_type": "code",
   "execution_count": null,
   "metadata": {},
   "outputs": [],
   "source": [
    "df.tail()"
   ]
  },
  {
   "cell_type": "code",
   "execution_count": null,
   "metadata": {},
   "outputs": [],
   "source": [
    "df.info()"
   ]
  },
  {
   "cell_type": "markdown",
   "metadata": {},
   "source": [
    "Explorando esta base de datos nos damos cuenta que:\n",
    "\n",
    "Hay columnas no definidas: Unnamed.\n",
    "Hay valores nulos en algunos campos.\n",
    "El formato de fecha no es el adecuado.\n",
    "\n",
    "Empezaremos el tratamiento básico"
   ]
  },
  {
   "cell_type": "code",
   "execution_count": null,
   "metadata": {},
   "outputs": [],
   "source": [
    "#Tratamiento Básico\n",
    "df.columns"
   ]
  },
  {
   "cell_type": "code",
   "execution_count": null,
   "metadata": {},
   "outputs": [],
   "source": [
    "df.drop(['Año corrido'], axis=1, inplace=True)\n",
    "#como no quiero trabajar con la columna 2 (variación año corrido de la inflación) la quitaré.\n",
    "#axis=1 implica que el cambio se hará en una columna. axis=0 sería si el cambio fuera a una fila.\n",
    "#inplace=True es para que el cambio se haga directamente en el dataframe."
   ]
  },
  {
   "cell_type": "code",
   "execution_count": null,
   "metadata": {},
   "outputs": [],
   "source": [
    "df"
   ]
  },
  {
   "cell_type": "code",
   "execution_count": null,
   "metadata": {},
   "outputs": [],
   "source": [
    "# Eliminar todos los valores nulos del dataframe\n",
    "df.dropna(inplace=True)"
   ]
  },
  {
   "cell_type": "code",
   "execution_count": null,
   "metadata": {},
   "outputs": [],
   "source": [
    "df"
   ]
  },
  {
   "cell_type": "code",
   "execution_count": null,
   "metadata": {},
   "outputs": [],
   "source": [
    "# Renombrar columnas\n",
    "df.rename(columns={'Unnamed: 0': 'Fecha'}, inplace=True)\n",
    "df.rename(columns={'Mensual': 'Inflación Mensual'}, inplace=True)\n",
    "df.rename(columns={'Anual': 'Inflación Anual'}, inplace=True)"
   ]
  },
  {
   "cell_type": "code",
   "execution_count": null,
   "metadata": {},
   "outputs": [],
   "source": [
    "df"
   ]
  },
  {
   "cell_type": "markdown",
   "metadata": {},
   "source": [
    "Ya hice el tratamiento para una parte de mi base de datos (la hoja \"1\", que contiene la inflación de Julio). Pero a mí me interesa realizar lo mismo para todas las hojas de mi base de datos, así que haré el mismo proceso para todas las que contiene (en este caso, julio y agosto). Esto es posible si o solo si el formato de ambos dataframes es el mismo. En caso de NO ser el mismo, tendremos que hacer un tratamiento adecuado para cada uno."
   ]
  },
  {
   "cell_type": "code",
   "execution_count": null,
   "metadata": {},
   "outputs": [],
   "source": [
    "#Pasos\n",
    "#Crear una lista con los nombres de las hojas\n",
    "sheets = ['1' , '2']"
   ]
  },
  {
   "cell_type": "code",
   "execution_count": null,
   "metadata": {},
   "outputs": [],
   "source": [
    "#creo una lista vacia donde se van a almacenar las bases de datos para cada mes una vez termine el tratamiento\n",
    "dfs = []\n"
   ]
  },
  {
   "cell_type": "code",
   "execution_count": null,
   "metadata": {},
   "outputs": [],
   "source": [
    "for sheet in sheets:\n",
    "    # Leer hoja y saltar las primeras 8 filas\n",
    "    df = pd.read_excel('ipc-julago2023.xlsx', sheet_name=sheet, skiprows=8)\n",
    "\n",
    "    # Eliminar columna 'Año corrido'\n",
    "    df.drop(['Año corrido'], axis=1, inplace=True)\n",
    "\n",
    "    # Eliminar filas con valores nulos\n",
    "    df.dropna(inplace=True)\n",
    "\n",
    "   # Renombrar columnas\n",
    "    df.rename(columns={'Unnamed: 0': 'Fecha'}, inplace=True)\n",
    "    df.rename(columns={'Mensual': 'Inflación Mensual'}, inplace=True)\n",
    "    df.rename(columns={'Anual': 'Inflación Anual'}, inplace=True)\n",
    "\n",
    "    # Agregar DataFrame a la lista\n",
    "    dfs.append(df)\n",
    "\n",
    "#concateno los resultados y los guardo en mi lista vacia\n",
    "df_final = pd.concat(dfs, ignore_index=True)\n",
    "df_final"
   ]
  },
  {
   "cell_type": "code",
   "execution_count": null,
   "metadata": {},
   "outputs": [],
   "source": [
    "df_final['Diferencia'] = df_final['Inflación Anual'] - df_final['Inflación Mensual']"
   ]
  },
  {
   "cell_type": "code",
   "execution_count": null,
   "metadata": {},
   "outputs": [],
   "source": [
    "df_final"
   ]
  },
  {
   "cell_type": "code",
   "execution_count": null,
   "metadata": {},
   "outputs": [],
   "source": [
    "#variacion porcentual de precios\n",
    "df_final['Variación'] = round((df_final['Inflación Anual'] \n",
    "- df_final['Inflación Mensual'])/df_final['Inflación Anual']*100 -100,2)"
   ]
  },
  {
   "cell_type": "code",
   "execution_count": null,
   "metadata": {},
   "outputs": [],
   "source": [
    "df_final"
   ]
  },
  {
   "cell_type": "markdown",
   "metadata": {},
   "source": [
    "Ahora voy a graficar la variación porcentual de la inflación anual."
   ]
  },
  {
   "cell_type": "code",
   "execution_count": null,
   "metadata": {},
   "outputs": [],
   "source": [
    "import matplotlib.pyplot as plt\n",
    "# Suponiendo que tienes una columna 'Variación' en tu DataFrame df_final\n",
    "variación = df_final['Variación']\n",
    "# Crear un gráfico de líneas\n",
    "plt.figure(figsize=(10, 6))  # Tamaño del gráfico opcional\n",
    "\n",
    "# Graficar la variación porcentual\n",
    "plt.plot(variación, marker='o', linestyle='-')\n",
    "\n",
    "# Configurar etiquetas y título\n",
    "plt.xlabel('Periodo')\n",
    "plt.ylabel('Variación Porcentual')\n",
    "plt.title('Variación Porcentual del IPC')\n",
    "\n",
    "# Mostrar la gráfica\n",
    "plt.grid(True)  # Mostrar una cuadrícula opcional\n",
    "plt.tight_layout()  # Ajustar el diseño\n",
    "plt.show()\n"
   ]
  },
  {
   "cell_type": "markdown",
   "metadata": {},
   "source": [
    "Ahora haré otro tipo de gráficos para datos del Banco Mundial, otro de los repositorios de datos que les comenté."
   ]
  },
  {
   "cell_type": "code",
   "execution_count": null,
   "metadata": {},
   "outputs": [],
   "source": [
    "import pandas as pd\n",
    "df5=pd.read_stata('graduation_rate.dta')\n",
    "#renombrar columnas\n",
    "df5=df5.rename(columns={'AC20':'ACT_Composition_score','AC21':'SAT_Total_Score','AC22':'Parental_level_of_education','AC23':'Parental_income','AC24':'high_school_gpa','AC25':'collegue_gpa','AC26':'years_to_graduate'})\n",
    "#explorar el dataset\n",
    "#intentemos eliminar los valores nulos, con dropna de primeras no podremos, debemos cambiar algo ligeramente\n",
    "df5=df5.replace('nan', None)\n",
    "df5 = df5.dropna()\n",
    "#convertir a tipo de números \n",
    "df5['ACT_Composition_score']=df5['ACT_Composition_score'].astype(int)\n",
    "df5['SAT_Total_Score']=df5['SAT_Total_Score'].astype(int)\n",
    "df5['Parental_income']=df5['Parental_income'].astype(int)\n",
    "df5['high_school_gpa']=df5['high_school_gpa'].astype(float)\n",
    "df5['collegue_gpa']=df5['collegue_gpa'].astype(float)\n",
    "df5['years_to_graduate']=df5['years_to_graduate'].astype(int)\n",
    "#Análisis\n",
    "import matplotlib.pyplot as plt\n",
    "plt.hist(df5['ACT_Composition_score'])\n",
    "plt.title(\"Distribución de ACT\")\n",
    "plt.xlabel(\"ACT\")\n",
    "plt.ylabel(\"Frecuencia\")\n",
    "plt.show()\n",
    "\n",
    "#summary\n",
    "df5['ACT_Composition_score'].describe()\n",
    "df5\n",
    "\n",
    "#grafico de dispersion\n",
    "plt.scatter(df5['high_school_gpa'], df5['ACT_Composition_score'])\n",
    "plt.xlabel('high')\n",
    "plt.ylabel('ACT')\n",
    "plt.title('Gráfico de dispersión')\n",
    "plt.show()"
   ]
  }
 ],
 "metadata": {
  "kernelspec": {
   "display_name": "Python 3",
   "language": "python",
   "name": "python3"
  },
  "language_info": {
   "codemirror_mode": {
    "name": "ipython",
    "version": 3
   },
   "file_extension": ".py",
   "mimetype": "text/x-python",
   "name": "python",
   "nbconvert_exporter": "python",
   "pygments_lexer": "ipython3",
   "version": "3.11.5"
  },
  "orig_nbformat": 4
 },
 "nbformat": 4,
 "nbformat_minor": 2
}
