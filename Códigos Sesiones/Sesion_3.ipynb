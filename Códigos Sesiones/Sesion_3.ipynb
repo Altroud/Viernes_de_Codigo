{
 "cells": [
  {
   "cell_type": "code",
   "execution_count": 1,
   "metadata": {},
   "outputs": [
    {
     "name": "stdout",
     "output_type": "stream",
     "text": [
      "75\n",
      "90\n",
      "65\n",
      "520\n",
      "34.666666666666664\n",
      "41661.62962962962\n",
      "----------------------------------------------------------------------------------------------------\n"
     ]
    }
   ],
   "source": [
    "# Operadores de asignación\n",
    "a = 75\n",
    "print(a)\n",
    "a += 15\n",
    "print(a)\n",
    "a -= 25\n",
    "print(a)\n",
    "a *= 8\n",
    "print(a)\n",
    "a /= 15\n",
    "print(a)\n",
    "a **= 3\n",
    "print(a)\n",
    "print(\"-\" * 100)"
   ]
  },
  {
   "cell_type": "code",
   "execution_count": 2,
   "metadata": {},
   "outputs": [
    {
     "name": "stdout",
     "output_type": "stream",
     "text": [
      "True\n",
      "True\n",
      "True\n",
      "False\n",
      "True\n",
      "False\n",
      "----------------------------------------------------------------------------------------------------\n"
     ]
    }
   ],
   "source": [
    "# Operadores de comparación\n",
    "b = 125\n",
    "# Mayor que\n",
    "print(b > 120)\n",
    "# Mayor o igual que\n",
    "print(b >= 120)\n",
    "# Menor que\n",
    "print(b < 130)\n",
    "# Menor o igual que\n",
    "print(b <= 100)\n",
    "# Igual\n",
    "print(b == 125)\n",
    "# Distinto\n",
    "print(b != 125)\n",
    "print(\"-\" * 100)"
   ]
  },
  {
   "cell_type": "code",
   "execution_count": 3,
   "metadata": {},
   "outputs": [],
   "source": [
    "# Condicionales\n",
    "numero = int(input(\"Ingrese un número:\"))\n",
    "if numero % 2 == 0:\n",
    "    print(f\"El número {numero} es par\")\n",
    "else:\n",
    "    print(f\"El número {numero} es impar\")"
   ]
  },
  {
   "cell_type": "code",
   "execution_count": null,
   "metadata": {},
   "outputs": [],
   "source": [
    "ingresos = int(input(\"Ingrese sus ingresos:\"))\n",
    "if ingresos < 30000:\n",
    "    print(f\"Tienes para una salida básica; una película y palomitas.\")\n",
    "elif ingresos < 50000:\n",
    "    print(f\"Tienes para una salida decente; una cena en un restaurante.\")\n",
    "else:\n",
    "    print(f\"Tienes para una gran noche; cena elegante y entretenimiento.\")"
   ]
  },
  {
   "cell_type": "code",
   "execution_count": null,
   "metadata": {},
   "outputs": [],
   "source": [
    "nombre_referencia = \"El Pepe\"\n",
    "comprobante = input(\"Ingrese su nombre:\")\n",
    "if comprobante == nombre_referencia:\n",
    "    print(\"Adelante, estimado\")\n",
    "else:\n",
    "    print(\"¿Que mirá bobo? Andá pa'shá\")\n",
    "print(\"-\" * 100)"
   ]
  },
  {
   "cell_type": "code",
   "execution_count": null,
   "metadata": {},
   "outputs": [],
   "source": [
    "# Operadores lógicos\n",
    "valor1 = 20\n",
    "valor2 = 200\n",
    "if valor1 < 25 or valor2 > 150:\n",
    "    print(f\"Me sirven esas cantidades\")\n",
    "else:\n",
    "    print(f\"No me sirven esas cantidades\")"
   ]
  },
  {
   "cell_type": "code",
   "execution_count": null,
   "metadata": {},
   "outputs": [],
   "source": [
    "titulo = input(\"Ingrese su título académico:\")\n",
    "habPrograma = input(\"Sabe programar: Si o No:\")\n",
    "if titulo.lower() == \"ingeniero\" and habPrograma.lower() == \"si\":\n",
    "    print(\"¡Adelante! Estás contratado\")\n",
    "else:\n",
    "    print(\"Nosotros te avisamos, ¿vale?\")\n"
   ]
  },
  {
   "cell_type": "code",
   "execution_count": null,
   "metadata": {},
   "outputs": [],
   "source": [
    "titulos_permitidos = [\"economista\", \"ingeniero\", \"científico de datos\"]\n",
    "\n",
    "titulo = input(\"Ingrese su título: \")\n",
    "habPrograma = input(\"¿Tiene habilitación para programación? (si/no): \")\n",
    "\n",
    "if titulo.lower() in titulos_permitidos and habPrograma.lower() == \"si\":\n",
    "    print(\"¡Contratado! ¿Cuándo puedes empezar?\")\n",
    "else:\n",
    "    print(\"Nosotros te llamamos, ¿vale? Espera sentado.\")"
   ]
  },
  {
   "cell_type": "code",
   "execution_count": null,
   "metadata": {},
   "outputs": [],
   "source": [
    "comida_favorita = \"Pizza\"\n",
    "comida = input(\"Ingrese su comida favorita:\")\n",
    "if comida.lower() != comida_favorita.lower():\n",
    "    print(f\"No es tu comida favorita\")\n",
    "else:\n",
    "    print(f\"Es tu comida favorita\")\n",
    "print(\"-\" * 100)"
   ]
  },
  {
   "cell_type": "code",
   "execution_count": null,
   "metadata": {},
   "outputs": [],
   "source": [
    "# Operadores de pertenencia\n",
    "lista_alumnos = []\n",
    "for i in range(8):\n",
    "    nombre = input(\"Ingrese el nombre del alumno:\")\n",
    "    lista_alumnos.append(nombre)\n",
    "print(\"María\" in lista_alumnos)\n",
    "print(\"María\" not in lista_alumnos)\n",
    "print(\"-\" * 100)"
   ]
  },
  {
   "cell_type": "code",
   "execution_count": null,
   "metadata": {},
   "outputs": [],
   "source": [
    "# Bucles \n",
    "i = 1\n",
    "while i < 8:\n",
    "    print(f\"Esto es un bucle con while.\")\n",
    "    i += 1\n",
    "\n",
    "for i in range(8):\n",
    "    print(f\"Esto es otro bucle, pero con for\")\n",
    "print(\"-\" * 100)\n",
    "\n",
    "# Funciones\n",
    "def multiplicacion(valor1, valor2):\n",
    "    return valor1 * valor2\n",
    "print(f\"El resultado de la multiplicación es:\", multiplicacion(3, 7))\n"
   ]
  }
 ],
 "metadata": {
  "kernelspec": {
   "display_name": "Python 3",
   "language": "python",
   "name": "python3"
  },
  "language_info": {
   "codemirror_mode": {
    "name": "ipython",
    "version": 3
   },
   "file_extension": ".py",
   "mimetype": "text/x-python",
   "name": "python",
   "nbconvert_exporter": "python",
   "pygments_lexer": "ipython3",
   "version": "3.11.4"
  },
  "orig_nbformat": 4
 },
 "nbformat": 4,
 "nbformat_minor": 2
}
