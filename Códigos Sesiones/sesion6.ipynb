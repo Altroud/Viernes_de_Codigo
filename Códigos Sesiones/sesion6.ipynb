{
 "cells": [
  {
   "cell_type": "code",
   "execution_count": null,
   "metadata": {},
   "outputs": [],
   "source": [
    "#Sesion 6\n",
    "import pandas as pd\n",
    "df = pd.read_stata('datos_ejemplo.dta')\n",
    "df"
   ]
  },
  {
   "cell_type": "code",
   "execution_count": null,
   "metadata": {},
   "outputs": [],
   "source": [
    "#Agregar una nueva columna al DataFrame con valor constante\n",
    "df['subsidio'] = 350000\n",
    "df"
   ]
  },
  {
   "cell_type": "code",
   "execution_count": null,
   "metadata": {},
   "outputs": [],
   "source": [
    "import numpy as np\n",
    "sub=np.arange(0,50000)\n",
    "df['sub']=sub\n",
    "sub2=np.random.randint(0,350000,size=50000)\n",
    "df['transfer'] = sub2\n",
    "#que sean decimales\n",
    "sub3=np.random.uniform(1,350000,size=50000)\n",
    "df['transfer2'] = sub3\n",
    "df['transfer2'] = round(df['transfer2'],2)\n",
    "df"
   ]
  },
  {
   "cell_type": "code",
   "execution_count": null,
   "metadata": {},
   "outputs": [],
   "source": [
    "#Ordenar DataFrame\n",
    "#segun valores numericos\n",
    "#Segun una columna\n",
    "#Segun el ingreso\n",
    "df.sort_values('Ingreso')\n",
    "df"
   ]
  },
  {
   "cell_type": "code",
   "execution_count": null,
   "metadata": {},
   "outputs": [],
   "source": [
    "#orden descendiente\n",
    "df.sort_values('Ingreso', ascending=False)\n",
    "df"
   ]
  },
  {
   "cell_type": "code",
   "execution_count": null,
   "metadata": {},
   "outputs": [],
   "source": [
    "#Segun varias columnas\n",
    "df.sort_values(['Ingreso','Edad'])\n",
    "df"
   ]
  },
  {
   "cell_type": "code",
   "execution_count": null,
   "metadata": {},
   "outputs": [],
   "source": [
    "#orden descendiente\n",
    "df.sort_values(['Ingreso','Edad'], ascending=False)\n",
    "df"
   ]
  },
  {
   "cell_type": "code",
   "execution_count": null,
   "metadata": {},
   "outputs": [],
   "source": [
    "#según valores categoricos\n",
    "df.sort_values('Ciudad', key=lambda col:col.str.lower())\n",
    "#key=Lambda col:col.str.lower() se usa para convertir la variable 'Ciudad' a minúscula.\n",
    "df"
   ]
  },
  {
   "cell_type": "code",
   "execution_count": null,
   "metadata": {},
   "outputs": [],
   "source": [
    "#Operaciones en filas\n",
    "#suma de filas\n",
    "df['Ingreso']+df['transfer2']"
   ]
  },
  {
   "cell_type": "code",
   "execution_count": null,
   "metadata": {},
   "outputs": [],
   "source": [
    "#promedio y asignar a columnas\n",
    "df['promIng']=round((df['Ingreso']+df['transfer2'])/2,2)"
   ]
  },
  {
   "cell_type": "code",
   "execution_count": null,
   "metadata": {},
   "outputs": [],
   "source": [
    "#value counts = contar elementos por categorias\n",
    "df['Genero'].value_counts()"
   ]
  },
  {
   "cell_type": "code",
   "execution_count": null,
   "metadata": {},
   "outputs": [],
   "source": [
    "#por porcentaje\n",
    "df['Genero'].value_counts(normalize=True)"
   ]
  },
  {
   "cell_type": "code",
   "execution_count": null,
   "metadata": {},
   "outputs": [],
   "source": [
    "#Agregar una nueva columna con un array\n",
    "import numpy as np\n",
    "# Agregar la columna 'sub' con valores del array sub\n",
    "sub = np.arange(0, 50000)\n",
    "df['sub'] = sub\n",
    "\n",
    "# Agregar la columna 'transfer' con valores aleatorios del array sub2 (enteros)\n",
    "sub2 = np.random.randint(0, 350000, size=50000)\n",
    "df['transfer'] = sub2\n",
    "\n",
    "# Agregar la columna 'transfer2' con valores aleatorios del array sub3 (decimales)\n",
    "sub3 = np.random.uniform(1, 350000, size=50000)\n",
    "df['transfer2'] = sub3\n",
    "\n",
    "# Redondear la columna 'transfer2' a dos decimales\n",
    "df['transfer2'] = round(df['transfer2'], 2)\n"
   ]
  },
  {
   "cell_type": "code",
   "execution_count": null,
   "metadata": {},
   "outputs": [],
   "source": [
    "# Agregar la columna 'sub' con valores del array sub\n",
    "sub = np.arange(0, 50000)\n",
    "df['sub'] = sub\n",
    "\n",
    "# Agregar la columna 'transfer' con valores aleatorios del array sub2 (enteros)\n",
    "sub2 = np.random.randint(0, 350000, size=50000)\n",
    "df['transfer'] = sub2\n",
    "\n",
    "# Agregar la columna 'transfer2' con valores aleatorios del array sub3 (decimales)\n",
    "sub3 = np.random.uniform(1, 350000, size=50000)\n",
    "df['transfer2'] = sub3\n",
    "\n",
    "# Redondear la columna 'transfer2' a dos decimales\n",
    "df['transfer2'] = round(df['transfer2'], 2)"
   ]
  },
  {
   "cell_type": "code",
   "execution_count": null,
   "metadata": {},
   "outputs": [],
   "source": [
    "#Operaciones en columnas\n",
    "#suma total de una columna \n",
    "df['Ingreso'].sum()"
   ]
  },
  {
   "cell_type": "code",
   "execution_count": null,
   "metadata": {},
   "outputs": [],
   "source": [
    "#cantidad de elementos\n",
    "df['Ingreso'].count()\n"
   ]
  },
  {
   "cell_type": "code",
   "execution_count": null,
   "metadata": {},
   "outputs": [],
   "source": [
    "#Promedio \n",
    "df['Ingreso'].mean()"
   ]
  },
  {
   "cell_type": "code",
   "execution_count": null,
   "metadata": {},
   "outputs": [],
   "source": [
    "#desviación estandar\n",
    "df['Ingreso'].std()"
   ]
  },
  {
   "cell_type": "code",
   "execution_count": null,
   "metadata": {},
   "outputs": [],
   "source": [
    "#máximo y mínimo\n",
    "df['Ingreso'].max()"
   ]
  },
  {
   "cell_type": "code",
   "execution_count": null,
   "metadata": {},
   "outputs": [],
   "source": [
    "df['Ingreso'].min()"
   ]
  },
  {
   "cell_type": "code",
   "execution_count": null,
   "metadata": {},
   "outputs": [],
   "source": [
    "#Formato Long - Wide\n",
    "import pandas as pd\n",
    "\n",
    "data = {'Producto': ['Producto A', 'Producto B', 'Producto C'],\n",
    "        'Región 1': [10, 20, 30],\n",
    "        'Región 2': [15, 25, 35],\n",
    "        'Región 3': [20, 30, 40]}\n",
    "\n",
    "df = pd.DataFrame(data)\n",
    "df_long = pd.melt(df, id_vars=['Producto'], var_name='Región', value_name='Ventas')\n",
    "print(df_long)\n",
    "df_wide = df_long.pivot(index='Producto', columns='Región', values='Ventas')\n",
    "print(df_wide)\n"
   ]
  }
 ],
 "metadata": {
  "kernelspec": {
   "display_name": "Python 3",
   "language": "python",
   "name": "python3"
  },
  "language_info": {
   "codemirror_mode": {
    "name": "ipython",
    "version": 3
   },
   "file_extension": ".py",
   "mimetype": "text/x-python",
   "name": "python",
   "nbconvert_exporter": "python",
   "pygments_lexer": "ipython3",
   "version": "3.11.5"
  },
  "orig_nbformat": 4
 },
 "nbformat": 4,
 "nbformat_minor": 2
}
