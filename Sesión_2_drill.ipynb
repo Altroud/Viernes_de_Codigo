{
 "cells": [
  {
   "cell_type": "markdown",
   "metadata": {},
   "source": [
    "<center><h1> Ejercicios sesión 2 Viernes de Código</h1></center>\n",
    "\n",
    "<div style=\"text-align: right;\"><h4>08/03/2024</h4></div>"
   ]
  },
  {
   "cell_type": "markdown",
   "metadata": {},
   "source": [
    "Ejercicio 1\n",
    "```\n",
    "# Cree una variable llamada numero y asígnele un valor entero. Imprima el valor de numero.\n",
    "```\n"
   ]
  },
  {
   "cell_type": "code",
   "execution_count": null,
   "metadata": {},
   "outputs": [],
   "source": []
  },
  {
   "cell_type": "markdown",
   "metadata": {},
   "source": [
    "Ejercicio 2\n",
    "```\n",
    "# Cree una variable llamada cadena y asígnele una cadena de caracteres. Imprima la cadena.\n",
    "```\n",
    "Pista: use el operador para _cadenas de texto_ \"...\""
   ]
  },
  {
   "cell_type": "code",
   "execution_count": null,
   "metadata": {},
   "outputs": [],
   "source": []
  },
  {
   "cell_type": "markdown",
   "metadata": {},
   "source": [
    "Ejercicio 3\n",
    "```\n",
    "# Cree una variable llamada verdadero_falso y asígnele un valor booleano. Imprima el valor.\n",
    "```"
   ]
  },
  {
   "cell_type": "code",
   "execution_count": null,
   "metadata": {},
   "outputs": [],
   "source": []
  },
  {
   "cell_type": "markdown",
   "metadata": {},
   "source": [
    "Ejercicio 4\n",
    "```\n",
    "# Escribe una expresión para verificar si 5 es mayor que 2 y imprime el resultado.\n",
    "```\n",
    "Pista: use operadores de _comparación >, <, ==_"
   ]
  },
  {
   "cell_type": "code",
   "execution_count": null,
   "metadata": {},
   "outputs": [],
   "source": []
  },
  {
   "cell_type": "markdown",
   "metadata": {},
   "source": [
    "Ejercicio 5\n",
    "```\n",
    "# Escribe una expresión para verificar si \"hola\" es igual a \"adiós\" e imprime el resultado.\n",
    "```\n",
    "Pista: use operadores de _comparación >, <, ==_"
   ]
  },
  {
   "cell_type": "code",
   "execution_count": null,
   "metadata": {},
   "outputs": [],
   "source": []
  },
  {
   "cell_type": "markdown",
   "metadata": {},
   "source": [
    "Ejercicio 6\n",
    "```\n",
    "# Usa una declaración if para imprimir \"Es mayor\" si un número es mayor que 10.\n",
    "```\n",
    "Pista: use operadores de _comparación >, <, ==_"
   ]
  },
  {
   "cell_type": "code",
   "execution_count": null,
   "metadata": {},
   "outputs": [],
   "source": []
  },
  {
   "cell_type": "markdown",
   "metadata": {},
   "source": [
    "Ejercicio 7\n",
    "```\n",
    "# Usa una declaración if para imprimir \"Es igual\" si dos cadenas son iguales.\n",
    "```\n",
    "Pista: use operadores de _comparación >, <, ==_"
   ]
  },
  {
   "cell_type": "code",
   "execution_count": null,
   "metadata": {},
   "outputs": [],
   "source": []
  },
  {
   "cell_type": "markdown",
   "metadata": {},
   "source": [
    "Ejercicio 8\n",
    "```\n",
    "# Usa una declaración if-else para imprimir \"Es mayor\" si un número es mayor que 10, de lo contrario, imprime \"Es menor o igual\".\n",
    "```\n",
    "Pista: use operadores de _comparación >, <, ==_"
   ]
  },
  {
   "cell_type": "code",
   "execution_count": null,
   "metadata": {},
   "outputs": [],
   "source": []
  },
  {
   "cell_type": "markdown",
   "metadata": {},
   "source": [
    "Ejercicio 9\n",
    "```\n",
    "# Crea un bucle for que imprima los números del 1 al 5.\n",
    "```"
   ]
  },
  {
   "cell_type": "code",
   "execution_count": null,
   "metadata": {},
   "outputs": [],
   "source": []
  },
  {
   "cell_type": "markdown",
   "metadata": {},
   "source": [
    "Ejercicio 10\n",
    "```\n",
    "# Crea un bucle while que imprima los números del 1 al 5.\n",
    "```\n",
    "Pista: cree una variable que tenga el valor inicial y aumente su valor cuando se cumpla la condición deseada"
   ]
  },
  {
   "cell_type": "code",
   "execution_count": null,
   "metadata": {},
   "outputs": [],
   "source": []
  },
  {
   "cell_type": "markdown",
   "metadata": {},
   "source": [
    "Ejercicio 11\n",
    "```\n",
    "# Usa una declaración if-else para imprimir \"Es corta\" si una cadena tiene menos de 10 caracteres, de lo contrario, imprime \"Es larga\".\n",
    "```"
   ]
  },
  {
   "cell_type": "code",
   "execution_count": null,
   "metadata": {},
   "outputs": [],
   "source": []
  },
  {
   "cell_type": "markdown",
   "metadata": {},
   "source": [
    "Ejercicio 12\n",
    "```\n",
    "# Crea una lista con los nombres de tres personas e imprímela (ejercicio autónomo).\n",
    "```\n",
    "Pista: use el operador de _lista [...]._"
   ]
  },
  {
   "cell_type": "code",
   "execution_count": null,
   "metadata": {},
   "outputs": [],
   "source": []
  },
  {
   "cell_type": "markdown",
   "metadata": {},
   "source": [
    "Ejercicio 13\n",
    "```\n",
    "# Usa un bucle for para imprimir cada nombre en la lista de personas (ejercicio autónomo).\n",
    "```"
   ]
  },
  {
   "cell_type": "code",
   "execution_count": null,
   "metadata": {},
   "outputs": [],
   "source": []
  },
  {
   "cell_type": "markdown",
   "metadata": {},
   "source": [
    "Ejercicio 14\n",
    "```\n",
    "# Usa un bucle while para imprimir cada nombre en la lista de personas (ejercicio autónomo).\n",
    "```"
   ]
  },
  {
   "cell_type": "code",
   "execution_count": null,
   "metadata": {},
   "outputs": [],
   "source": []
  },
  {
   "cell_type": "markdown",
   "metadata": {},
   "source": [
    "Ejercicio 15\n",
    "```\n",
    "# Usa una declaración if para verificar si \"Python\" está en la lista de personas e imprime un mensaje apropiado (ejercicio autónomo).\n",
    "```"
   ]
  },
  {
   "cell_type": "code",
   "execution_count": null,
   "metadata": {},
   "outputs": [],
   "source": []
  },
  {
   "cell_type": "markdown",
   "metadata": {},
   "source": [
    "Ejercicio 16\n",
    "```\n",
    "# Crea una función llamada suma que tome dos números como argumentos y devuelva su suma. Llama a la función e imprime el resultado.\n",
    "```\n",
    "Pista: use el comando _def_"
   ]
  },
  {
   "cell_type": "code",
   "execution_count": null,
   "metadata": {},
   "outputs": [],
   "source": []
  },
  {
   "cell_type": "markdown",
   "metadata": {},
   "source": [
    "Ejercicio 17\n",
    "```\n",
    "# Crea una función llamada es_par que tome un número como argumento y devuelva True si es par y False si no lo es. Llama a la función e imprime el resultado para varios números.\n",
    "```\n",
    "Pista: use el comando _def_"
   ]
  },
  {
   "cell_type": "code",
   "execution_count": null,
   "metadata": {},
   "outputs": [],
   "source": []
  },
  {
   "cell_type": "markdown",
   "metadata": {},
   "source": [
    "Ejercicio 18\n",
    "```\n",
    "# Crea una función llamada es_palabra_larga que tome una cadena como argumento y devuelva True si tiene más de 8 caracteres y False si no. Llama a la función e imprime el resultado para varias cadenas.\n",
    "```\n",
    "Pista: use el comando _def_"
   ]
  },
  {
   "cell_type": "code",
   "execution_count": null,
   "metadata": {},
   "outputs": [],
   "source": []
  },
  {
   "cell_type": "markdown",
   "metadata": {},
   "source": [
    "Ejercicio 19\n",
    "```\n",
    "# Escribe un programa que pida al usuario un número y luego imprima si es par o impar.\n",
    "```\n",
    "Pista: use el comando *input*"
   ]
  },
  {
   "cell_type": "code",
   "execution_count": null,
   "metadata": {},
   "outputs": [],
   "source": []
  },
  {
   "cell_type": "markdown",
   "metadata": {},
   "source": [
    "Ejercicio 20\n",
    "```\n",
    "# Escribe un programa que pida al usuario una cadena y luego imprima si la cadena tiene más de 10 caracteres o no. \n",
    "```\n",
    "Pista: use el comando *input*"
   ]
  },
  {
   "cell_type": "code",
   "execution_count": null,
   "metadata": {},
   "outputs": [],
   "source": []
  }
 ],
 "metadata": {
  "kernelspec": {
   "display_name": "Python 3",
   "language": "python",
   "name": "python3"
  },
  "language_info": {
   "codemirror_mode": {
    "name": "ipython",
    "version": 3
   },
   "file_extension": ".py",
   "mimetype": "text/x-python",
   "name": "python",
   "nbconvert_exporter": "python",
   "pygments_lexer": "ipython3",
   "version": "3.12.1"
  }
 },
 "nbformat": 4,
 "nbformat_minor": 2
}
