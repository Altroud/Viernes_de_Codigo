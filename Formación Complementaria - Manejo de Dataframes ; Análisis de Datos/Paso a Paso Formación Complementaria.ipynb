{
 "cells": [
  {
   "cell_type": "code",
   "execution_count": null,
   "metadata": {},
   "outputs": [],
   "source": [
    "%pip install pandas\n",
    "%pip install openpyxl\n",
    "%pip install numpy"
   ]
  },
  {
   "cell_type": "code",
   "execution_count": null,
   "metadata": {},
   "outputs": [],
   "source": [
    "import pandas as pd"
   ]
  },
  {
   "cell_type": "code",
   "execution_count": null,
   "metadata": {},
   "outputs": [],
   "source": [
    "df_xlsx = pd.read_excel(\"base de datos.xlsx\", sheet_name=\"\", skiprows=0)"
   ]
  },
  {
   "cell_type": "code",
   "execution_count": null,
   "metadata": {},
   "outputs": [],
   "source": [
    "df_csv = pd.read_csv(\"base de datos.csv\")"
   ]
  },
  {
   "cell_type": "code",
   "execution_count": null,
   "metadata": {},
   "outputs": [],
   "source": [
    "df_dta = pd.read_dta(\"base de datos.dta\")"
   ]
  },
  {
   "cell_type": "code",
   "execution_count": null,
   "metadata": {},
   "outputs": [],
   "source": [
    "df_xlsx.head() # Muestra las primeras filas del DataFrame \"df_xlsx\" (por defecto las primeras 5 filas).\n",
    "df_xlsx.shape # Muestra la forma del DataFrame \"df_xlsx\" (número de filas y columnas).\n",
    "df_xlsx.dtypes # Muestra los tipos de datos de cada columna en el DataFrame \"df_xlsx\".\n",
    "df_xlsx.index # Muestra el índice del DataFrame \"df_xlsx\" (etiquetas o números que identifican las filas).\n",
    "type(df_xlsx) # Muestra el tipo de dato de df_xlsx (en este caso debería ser <class 'pandas.core.frame.DataFrame'>, indicando que \"df_xlsx\" es un DataFrame de Pandas)."
   ]
  },
  {
   "cell_type": "code",
   "execution_count": null,
   "metadata": {},
   "outputs": [],
   "source": [
    "# Selección de columnas.\n",
    "# Método del corchete.\n",
    "df_xlsx['col1']\n",
    "\n",
    "# Método del punto.\n",
    "df_xlsx.col1\n",
    "\n",
    "# Seleccionar más de una columna.\n",
    "df_xlsx[['col1','col2']]\n",
    "\n",
    "# Renombrar columnas.\n",
    "df_xlsx.rename(columns={'col1':'columna1', 'col2':'columna2'}, inplace=True)\n",
    "Donde:\n",
    "columns= # Especifica que queremos trabajar con las columnas de nuestro DataFrame\n",
    "'col1':'columna1' # Indica cuál es el nombre de nuestra columna original ('col1') y cuál queremos que sea el nuevo nombre ('columna1')\n",
    "inplace=True # Indica que queremos que los cambios realizados se guarden directamente en el dataframe. Por defecto los cambios no se aplican directamente a nuesta base de datos.\n",
    "\n",
    "# Eliminar columnas.\n",
    "df_xlsx = df_xlsx.drop('columna1', axis=1)\n",
    "Donde:\n",
    "'columna1' # Es la columna que queremos eliminar.\n",
    "axis=1 # Indica que estamos eliminando una columna.\n",
    "\n",
    "# Crear nueva columna\n",
    "\n",
    "df_xlsx['Nueva Columna']=100"
   ]
  },
  {
   "cell_type": "code",
   "execution_count": null,
   "metadata": {},
   "outputs": [],
   "source": [
    "# Operaciones Básicas\n",
    "# Suma\n",
    "\n",
    "df_xlsx['Suma']=df_xlsx['columna1']+df_xlsx['columna2']\n",
    "\n",
    "# Resta\n",
    "df_xlsx['Resta']=df_xlsx['columna1']-df_xlsx['columna2']\n",
    "\n",
    "# Multiplicación\n",
    "df_xlsx['Multiplicación']=df_xlsx['columna1']*df_xlsx['columna2']\n",
    "\n",
    "# División\n",
    "df_xlsx['División']=df_xlsx['columna1']/df_xlsx['columna2'] # Recuerden que si el denominador es cero, la división será indeterminada.\n"
   ]
  },
  {
   "cell_type": "code",
   "execution_count": null,
   "metadata": {},
   "outputs": [],
   "source": [
    "df_xlsx['columna1'].sum() # Suma de los Elementos de una Columna\n",
    "df_xlsx['columna1'].count() # Contar Elementos.\n",
    "df_xlsx['columna1'].mean() # Moda.\n",
    "df_xlsx['columna1'].mean() # Media.\n",
    "df_xlsx['columna1'].median() # Mediana.\n",
    "df_xlsx['columna1'].std() # Desviación Estándar.\n",
    "df_xlsx['columna1'].max() # Valor Máximo.\n",
    "df_xlsx['columna1'].min() # Valor Mínimo."
   ]
  },
  {
   "cell_type": "code",
   "execution_count": 2,
   "metadata": {},
   "outputs": [
    {
     "ename": "SyntaxError",
     "evalue": "unterminated string literal (detected at line 1) (2994933667.py, line 1)",
     "output_type": "error",
     "traceback": [
      "\u001b[1;36m  Cell \u001b[1;32mIn[2], line 1\u001b[1;36m\u001b[0m\n\u001b[1;33m    despedida=\"Concluimos este manual de formación con la esperanza de que Python se convierta en\u001b[0m\n\u001b[1;37m              ^\u001b[0m\n\u001b[1;31mSyntaxError\u001b[0m\u001b[1;31m:\u001b[0m unterminated string literal (detected at line 1)\n"
     ]
    }
   ],
   "source": [
    "despedida=\"Concluimos este manual de formación con la esperanza de que Python se convierta en una valiosa herramienta en tu caja de habilidades. Recuerda que el aprendizaje es un viaje constante, y tu potencial es ilimitado. ¡Sigue explorando, sigue programando y sigue creciendo en este emocionante mundo de Python! ¡Hasta la próxima línea de código!\"\n",
    "print(despedida)"
   ]
  }
 ],
 "metadata": {
  "kernelspec": {
   "display_name": "Python 3",
   "language": "python",
   "name": "python3"
  },
  "language_info": {
   "codemirror_mode": {
    "name": "ipython",
    "version": 3
   },
   "file_extension": ".py",
   "mimetype": "text/x-python",
   "name": "python",
   "nbconvert_exporter": "python",
   "pygments_lexer": "ipython3",
   "version": "3.11.5"
  },
  "orig_nbformat": 4
 },
 "nbformat": 4,
 "nbformat_minor": 2
}
