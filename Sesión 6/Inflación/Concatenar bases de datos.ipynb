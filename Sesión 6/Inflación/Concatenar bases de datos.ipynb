{
 "cells": [
  {
   "cell_type": "code",
   "execution_count": null,
   "metadata": {},
   "outputs": [],
   "source": [
    "import os # Para establecer directorio de trabajo\n",
    "wd = os.getcwd() # Ver el directorio de trabajo actual\n",
    "# os.chdir sirve para cambiar el directorio de trabajo actual a uno nuevo"
   ]
  },
  {
   "cell_type": "code",
   "execution_count": 1,
   "metadata": {},
   "outputs": [],
   "source": [
    "# Variación mensual\n",
    "import pandas as pd\n",
    "Lista = list(i for i in range(1, 3))\n",
    "meses_dict = {1: 'Enero', 2: 'Febrero'}\n",
    "Dataframes = []\n",
    "for objeto in Lista:\n",
    "    file_path = f\"{objeto}.xlsx\"\n",
    "    df = pd.read_excel(file_path, sheet_name=\"4\", header = 6)\n",
    "    ciudades = [\"Total IPC\", \"Barranquilla\",\"Cartagena De Indias\",\"Valledupar\",\"Montería\",\"Riohacha\",\n",
    "                \"Santa Marta\",\"Sincelejo\"]\n",
    "    df = df[df[\"Ciudades\"].isin(ciudades)]\n",
    "    df['Ciudades'] = df['Ciudades'].replace({'Total IPC': 'Nacional'})\n",
    "    df = df.rename(columns={'Ciudades': 'Territorio'})\n",
    "    df = pd.melt(df, id_vars=[\"Territorio\"], var_name=\"Categoría\", value_name = \"Inflación (%)\")\n",
    "    nombre_mes = meses_dict.get(objeto)\n",
    "    df[\"Mes\"] = nombre_mes\n",
    "    df[\"Año\"] = 2024\n",
    "    df[\"Tipo de indicador\"] = \"Variación mensual\"\n",
    "    orden_columnas = [\"Territorio\", \"Mes\", \"Año\", \"Tipo de indicador\", \"Categoría\", \"Inflación (%)\"]\n",
    "    df = df[orden_columnas]\n",
    "    Dataframes.append(df)\n",
    "df_concat = pd.concat(Dataframes, ignore_index=True)\n",
    "orden_ciudades = [\"Nacional\", \"Barranquilla\",\"Cartagena De Indias\",\"Valledupar\",\"Montería\",\"Riohacha\",\n",
    "                \"Santa Marta\",\"Sincelejo\"]\n",
    "df_concat = df_concat.sort_values(by= [\"Territorio\", \"Categoría\"], key=lambda x: x.map({v: i for i, v in enumerate(orden_ciudades)}))\n",
    "orden_meses = [\"Febrero\", \"Enero\"]\n",
    "df_concat = df_concat.sort_values(by = [\"Mes\",\"Territorio\", \"Categoría\"], key=lambda x: x.map({v: i for i, v in enumerate(orden_meses)}))\n",
    "df_concat.to_excel('Variación Mensual.xlsx', index=False)"
   ]
  },
  {
   "cell_type": "code",
   "execution_count": 2,
   "metadata": {},
   "outputs": [],
   "source": [
    "# Variación Año Corrido\n",
    "import pandas as pd\n",
    "Lista = list(i for i in range(1, 3))\n",
    "meses_dict = {1: 'Enero', 2: 'Febrero'}\n",
    "Dataframes = []\n",
    "for objeto in Lista:\n",
    "    file_path = f\"{objeto}.xlsx\"\n",
    "    df = pd.read_excel(file_path, sheet_name=\"5\", header = 6)\n",
    "    ciudades = [\"Total IPC\", \"Barranquilla\",\"Cartagena De Indias\",\"Valledupar\",\"Montería\",\"Riohacha\",\n",
    "                \"Santa Marta\",\"Sincelejo\"]\n",
    "    df = df[df[\"Ciudades\"].isin(ciudades)]\n",
    "    df['Ciudades'] = df['Ciudades'].replace({'Total IPC': 'Nacional'})\n",
    "    df = df.rename(columns={'Ciudades': 'Territorio'})\n",
    "    df = pd.melt(df, id_vars=[\"Territorio\"], var_name=\"Categoría\", value_name = \"Inflación (%)\")\n",
    "    nombre_mes = meses_dict.get(objeto)\n",
    "    df[\"Mes\"] = nombre_mes\n",
    "    df[\"Año\"] = 2024\n",
    "    df[\"Tipo de indicador\"] = \"Variación año corrido\"\n",
    "    orden_columnas = [\"Territorio\", \"Mes\", \"Año\", \"Tipo de indicador\", \"Categoría\", \"Inflación (%)\"]\n",
    "    df = df[orden_columnas]\n",
    "    Dataframes.append(df)\n",
    "df_concat = pd.concat(Dataframes, ignore_index=True)\n",
    "orden_ciudades = [\"Nacional\", \"Barranquilla\",\"Cartagena De Indias\",\"Valledupar\",\"Montería\",\"Riohacha\",\n",
    "                \"Santa Marta\",\"Sincelejo\"]\n",
    "df_concat = df_concat.sort_values(by= [\"Territorio\", \"Categoría\"], key=lambda x: x.map({v: i for i, v in enumerate(orden_ciudades)}))\n",
    "orden_meses = [\"Febrero\", \"Enero\"]\n",
    "df_concat = df_concat.sort_values(by = [\"Mes\",\"Territorio\", \"Categoría\"], key=lambda x: x.map({v: i for i, v in enumerate(orden_meses)}))\n",
    "df_concat.to_excel('Variación Año Corrido.xlsx', index=False)"
   ]
  },
  {
   "cell_type": "code",
   "execution_count": 9,
   "metadata": {},
   "outputs": [],
   "source": [
    "# Variación Anual\n",
    "import pandas as pd\n",
    "Lista = list(i for i in range(1, 3))\n",
    "meses_dict = {1: 'Enero', 2: 'Febrero'}\n",
    "Dataframes = []\n",
    "for objeto in Lista:\n",
    "    file_path = f\"{objeto}.xlsx\"\n",
    "    df = pd.read_excel(file_path, sheet_name=\"6\", header = 6)\n",
    "    ciudades = [\"Total IPC\", \"Barranquilla\",\"Cartagena De Indias\",\"Valledupar\",\"Montería\",\"Riohacha\",\n",
    "                \"Santa Marta\",\"Sincelejo\"]\n",
    "    df = df[df[\"Ciudades\"].isin(ciudades)]\n",
    "    df['Ciudades'] = df['Ciudades'].replace({'Total IPC': 'Nacional'})\n",
    "    df = df.rename(columns={'Ciudades': 'Territorio'})\n",
    "    df = pd.melt(df, id_vars=[\"Territorio\"], var_name=\"Categoría\", value_name = \"Inflación (%)\")\n",
    "    nombre_mes = meses_dict.get(objeto)\n",
    "    df[\"Mes\"] = nombre_mes\n",
    "    df[\"Año\"] = 2024\n",
    "    df[\"Tipo de indicador\"] = \"Variación anual\"    \n",
    "    orden_columnas = [\"Territorio\", \"Mes\", \"Año\", \"Tipo de indicador\", \"Categoría\", \"Inflación (%)\"]\n",
    "    df = df[orden_columnas]\n",
    "    Dataframes.append(df)\n",
    "df_concat = pd.concat(Dataframes, ignore_index=True)\n",
    "orden_ciudades = [\"Nacional\", \"Barranquilla\",\"Cartagena De Indias\",\"Valledupar\",\"Montería\",\"Riohacha\",\n",
    "                \"Santa Marta\",\"Sincelejo\"]\n",
    "orden_meses = [\"Febrero\", \"Enero\"]\n",
    "df_concat = df_concat.sort_values(by= [\"Territorio\", \"Categoría\"], key=lambda x: x.map({v: i for i, v in enumerate(orden_ciudades)}))\n",
    "df_concat = df_concat.sort_values(by = [\"Mes\",\"Territorio\", \"Categoría\"], key=lambda x: x.map({v: i for i, v in enumerate(orden_meses)}))\n",
    "df_concat.to_excel('Variación Anual.xlsx', index=False)"
   ]
  }
 ],
 "metadata": {
  "kernelspec": {
   "display_name": "Python 3",
   "language": "python",
   "name": "python3"
  },
  "language_info": {
   "codemirror_mode": {
    "name": "ipython",
    "version": 3
   },
   "file_extension": ".py",
   "mimetype": "text/x-python",
   "name": "python",
   "nbconvert_exporter": "python",
   "pygments_lexer": "ipython3",
   "version": "3.12.2"
  }
 },
 "nbformat": 4,
 "nbformat_minor": 2
}
