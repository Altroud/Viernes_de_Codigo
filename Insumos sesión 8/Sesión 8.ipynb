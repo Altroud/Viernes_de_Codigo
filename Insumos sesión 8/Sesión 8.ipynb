{
 "cells": [
  {
   "cell_type": "markdown",
   "metadata": {},
   "source": [
    "# 29/09/2023\n",
    "## Viernes de Código - Sesión 8\n",
    "### Tratamiento de Bases de Datos II\n",
    "#### José David Mendoza Pérez\n",
    "##### Universidad del Norte"
   ]
  },
  {
   "cell_type": "markdown",
   "metadata": {},
   "source": [
    "---\n",
    "Paquetes que usaremos en la sesión:\n",
    "```Python\n",
    "Pandas #Tratamiento de bases de datos (dataframes).\n",
    "Matplotlib #Gráficos."
   ]
  },
  {
   "cell_type": "markdown",
   "metadata": {},
   "source": [
    "---\n",
    "##### (En caso de que no tengan instalados estos paquetes, por favor ejecutar el código que aparece a continuación)"
   ]
  },
  {
   "cell_type": "code",
   "execution_count": null,
   "metadata": {},
   "outputs": [],
   "source": [
    "%pip install pandas\n",
    "%pip install matplotlib"
   ]
  },
  {
   "cell_type": "markdown",
   "metadata": {},
   "source": [
    "---\n",
    "##### Por favor, importe los paquetes que usaremos en la sesión actual."
   ]
  },
  {
   "cell_type": "code",
   "execution_count": null,
   "metadata": {},
   "outputs": [],
   "source": [
    "import pandas as pd\n",
    "import matplotlib.pyplot as plt"
   ]
  },
  {
   "cell_type": "markdown",
   "metadata": {},
   "source": [
    "---"
   ]
  },
  {
   "cell_type": "markdown",
   "metadata": {},
   "source": [
    "```python\n",
    "La base de datos presentada a continuación contiene información acerca de estudiantes de Estados Unidos. Por favor, trabaje a continuación con la base de datos que se le pidió traer para la sesión actual # (en caso de no tener una, por favor usar cualquiera de los links que se le proporcionó en la sesión anterior).\n",
    "También puede trabajar con la base de datos de ejemplo, pero lo ideal es tratar una base de datos única.\n",
    "```\n",
    "## Repositorios de Datos\n",
    "\n",
    "### DANE\n",
    "https://www.dane.gov.co/index.php/estadisticas-por-tema\n",
    "### Base de Datos del Banco Mundial (World Bank Data Base)\n",
    "https://data.worldbank.org/indicator\n",
    "### OCSA (Observatorio de Condiciones Socioeconómicas del Caribe Colombiano)\n",
    "https://www.uninorte.edu.co/web/ocsa/repositorio-de-datos\n",
    "\n",
    "---\n",
    "# Graduation Rate\n",
    "```python\n",
    "# Paso 1. Conocer nuestra base de datos\n",
    "```\n",
    "Esta parte no la podemos automatizar (aún) por lo cual es crucial que antes de siquiera importar la base de datos a nuestro entorno de trabajo tengamos claro varios aspectos:\n",
    "\n",
    "1. La naturaleza de nuestros datos.\n",
    "2. La estructura lógica de la base de datos.\n",
    "3. ¿Qué nos interesa de esta base de datos?\n",
    "4. ¿Vale la pena crear un script de Python?\n",
    "---\n",
    "```python\n",
    "# Paso 2. Análisis exploratorio\n",
    "## Cargar nuestra base de datos en el entorno de trabajo."
   ]
  },
  {
   "cell_type": "code",
   "execution_count": null,
   "metadata": {},
   "outputs": [],
   "source": [
    "df=pd.read_stata('graduation_rate.dta')\n",
    "df"
   ]
  },
  {
   "cell_type": "code",
   "execution_count": null,
   "metadata": {},
   "outputs": [],
   "source": [
    "df.head()"
   ]
  },
  {
   "cell_type": "code",
   "execution_count": null,
   "metadata": {},
   "outputs": [],
   "source": [
    "df.tail()"
   ]
  },
  {
   "cell_type": "code",
   "execution_count": null,
   "metadata": {},
   "outputs": [],
   "source": [
    "df.info()"
   ]
  },
  {
   "cell_type": "markdown",
   "metadata": {},
   "source": [
    "Explorando esta base de datos nos damos cuenta que:\n",
    "\n",
    "- Hay valores nulos en algunos campos.\n",
    "- El nombre de las variables es poco atractivo y nada informativo.\n",
    "- La verdad no sabemos que significa cada cosa.\n",
    "- Existen valores duplicados.\n",
    "Por lo que empezaremos el **tratamiento básico**:\n",
    "---\n",
    "```python\n",
    "# Paso 3. Tratamiento básico\n",
    "## Recodificar las variables"
   ]
  },
  {
   "cell_type": "code",
   "execution_count": null,
   "metadata": {},
   "outputs": [],
   "source": [
    "df=df.rename(columns={'AC20':'ACT_Composition_score','AC21':'SAT_Total_Score',\n",
    "                      'AC22':'Parental_level_of_education','AC23':'Parental_income (USD)',\n",
    "                      'AC24':'high_school_gpa','AC25':'college_gpa','AC26':'years_to_graduate'})\n",
    "df"
   ]
  },
  {
   "cell_type": "markdown",
   "metadata": {},
   "source": [
    "```python\n",
    "# Eliminar todos los valores nulos del dataframe."
   ]
  },
  {
   "cell_type": "code",
   "execution_count": null,
   "metadata": {},
   "outputs": [],
   "source": [
    "df.dropna(inplace=True)\n",
    "df"
   ]
  },
  {
   "cell_type": "markdown",
   "metadata": {},
   "source": [
    "```python\n",
    "#Con la opción estandar no funciona. ¿Por Qué? (pista, recuerden lo que hicimos la semana pasada)."
   ]
  },
  {
   "cell_type": "code",
   "execution_count": null,
   "metadata": {},
   "outputs": [],
   "source": [
    "df=df.replace('nan', None)\n",
    "df"
   ]
  },
  {
   "cell_type": "code",
   "execution_count": null,
   "metadata": {},
   "outputs": [],
   "source": [
    "df = df.dropna()\n",
    "df"
   ]
  },
  {
   "cell_type": "markdown",
   "metadata": {},
   "source": [
    "```python\n",
    "#Convertir a los tipos de datos correspondientes:"
   ]
  },
  {
   "cell_type": "code",
   "execution_count": null,
   "metadata": {},
   "outputs": [],
   "source": [
    "df['ACT_Composition_score']=df['ACT_Composition_score'].astype(int)\n",
    "df['SAT_Total_Score']=df['SAT_Total_Score'].astype(int)\n",
    "df['Parental_income']=df['Parental_income'].astype(int)\n",
    "df['high_school_gpa']=df['high_school_gpa'].astype(float)\n",
    "df['college_gpa']=df['college_gpa'].astype(float)\n",
    "df['years_to_graduate']=df['years_to_graduate'].astype(int)"
   ]
  },
  {
   "cell_type": "markdown",
   "metadata": {},
   "source": [
    "# Análisis de los datos"
   ]
  },
  {
   "cell_type": "markdown",
   "metadata": {},
   "source": [
    "```python\n",
    "#Análisis"
   ]
  },
  {
   "cell_type": "code",
   "execution_count": null,
   "metadata": {},
   "outputs": [],
   "source": [
    "plt.hist(df['ACT_Composition_score'])\n",
    "plt.title(\"Distribución de ACT\")\n",
    "plt.xlabel(\"ACT\")\n",
    "plt.ylabel(\"Frecuencia\")\n",
    "plt.show()"
   ]
  },
  {
   "cell_type": "markdown",
   "metadata": {},
   "source": [
    "```python\n",
    "#Summary"
   ]
  },
  {
   "cell_type": "code",
   "execution_count": null,
   "metadata": {},
   "outputs": [],
   "source": [
    "df['ACT_Composition_score'].describe()"
   ]
  },
  {
   "cell_type": "markdown",
   "metadata": {},
   "source": [
    "```python\n",
    "#Gráfico de Dispersión"
   ]
  },
  {
   "cell_type": "code",
   "execution_count": null,
   "metadata": {},
   "outputs": [],
   "source": [
    "plt.scatter(df['high_school_gpa'], df['ACT_Composition_score'])\n",
    "plt.xlabel('High School GPA')\n",
    "plt.ylabel('ACT Composition Score')\n",
    "plt.title('Gráfico de Dispersión')\n",
    "plt.show()"
   ]
  },
  {
   "cell_type": "markdown",
   "metadata": {},
   "source": [
    "---"
   ]
  },
  {
   "cell_type": "markdown",
   "metadata": {},
   "source": [
    "```python\n",
    "# Exportar nuestra base de datos luego de ser tratada.\n",
    "## En formato .dta (en caso que queramos trabajar los datos con Stata)."
   ]
  },
  {
   "cell_type": "code",
   "execution_count": null,
   "metadata": {},
   "outputs": [],
   "source": [
    "df.to_stata(\"baseTrabajada\",write_index=False)"
   ]
  },
  {
   "cell_type": "markdown",
   "metadata": {},
   "source": [
    "```python\n",
    "# En formato .xlsx (en caso que queramos trabajar con los datos en Excel)"
   ]
  },
  {
   "cell_type": "code",
   "execution_count": null,
   "metadata": {},
   "outputs": [],
   "source": [
    "df.to_excel(\"Base Trabajada.xlsx\", index=False)"
   ]
  }
 ],
 "metadata": {
  "kernelspec": {
   "display_name": "Python 3",
   "language": "python",
   "name": "python3"
  },
  "language_info": {
   "codemirror_mode": {
    "name": "ipython",
    "version": 3
   },
   "file_extension": ".py",
   "mimetype": "text/x-python",
   "name": "python",
   "nbconvert_exporter": "python",
   "pygments_lexer": "ipython3",
   "version": "3.11.5"
  },
  "orig_nbformat": 4
 },
 "nbformat": 4,
 "nbformat_minor": 2
}
